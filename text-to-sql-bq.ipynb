{
 "cells": [
  {
   "cell_type": "code",
   "execution_count": null,
   "id": "cddfc14a-06ae-4b29-b4bd-26f241f843b0",
   "metadata": {},
   "outputs": [],
   "source": [
    "import vertexai\n",
    "import os\n",
    "import pandas as pd\n",
    "from langchain import SQLDatabase\n",
    "from langchain import PromptTemplate\n",
    "from langchain_google_vertexai import VertexAI\n",
    "from langchain.output_parsers import PydanticOutputParser\n",
    "from langchain_core.pydantic_v1 import BaseModel, Field\n",
    "from langchain.output_parsers import OutputFixingParser\n",
    "\n",
    "\n",
    "os.environ[\"GOOGLE_APPLICATION_CREDENTIALS\"] = \"\"\n",
    "vertexai.init(project=\"\", location=\"europe-west3\")\n",
    "sqlalchemy_url = \"bigquery://\""
   ]
  },
  {
   "cell_type": "code",
   "execution_count": null,
   "id": "0390f848-47ae-4025-988b-0891fe41f64b",
   "metadata": {},
   "outputs": [],
   "source": [
    "TABLE_SCHEMA = \"\"\"CREATE TABLE `project_name.dataset_name.table_name`\n",
    "    (\n",
    "    billing_account_id STRING,\n",
    "    service STRUCT<id STRING, description STRING>,\n",
    "    sku STRUCT<id STRING, description STRING>,\n",
    "    usage_start_time TIMESTAMP,\n",
    "    usage_end_time TIMESTAMP,\n",
    "    project STRUCT<id STRING, number STRING, name STRING, labels ARRAY<STRUCT<key STRING, value STRING>>, ancestry_numbers STRING, ancestors ARRAY<STRUCT<resource_name STRING, display_name STRING>>>,\n",
    "    labels ARRAY<STRUCT<key STRING, value STRING>>,\n",
    "    system_labels ARRAY<STRUCT<key STRING, value STRING>>,\n",
    "    location STRUCT<location STRING, country STRING, region STRING, zone STRING>,\n",
    "    tags ARRAY<STRUCT<key STRING, value STRING, inherited BOOL, namespace STRING>>,\n",
    "    export_time TIMESTAMP,\n",
    "    cost FLOAT64,\n",
    "    currency STRING,\n",
    "    currency_conversion_rate FLOAT64,\n",
    "    usage STRUCT<amount FLOAT64, unit STRING, amount_in_pricing_units FLOAT64, pricing_unit STRING>,\n",
    "    credits ARRAY<STRUCT<name STRING, amount FLOAT64, full_name STRING, id STRING, type STRING>>,\n",
    "    invoice STRUCT<month STRING>,\n",
    "    cost_type STRING,\n",
    "    adjustment_info STRUCT<id STRING, description STRING, mode STRING, type STRING>,\n",
    "    cost_at_list FLOAT64\n",
    "    )\n",
    "    PARTITION BY DATE(_PARTITIONDATE);\"\"\""
   ]
  },
  {
   "cell_type": "code",
   "execution_count": null,
   "id": "386b19b5-323e-4303-abfd-24cdafddae2b",
   "metadata": {
    "scrolled": true
   },
   "outputs": [],
   "source": [
    "llm = VertexAI(model_name=\"code-bison@002\", temperature=0.4)\n",
    "db = SQLDatabase.from_uri(sqlalchemy_url,\n",
    "                          include_tables=[\"\"],\n",
    "                          custom_table_info={ \"\" : TABLE_SCHEMA},\n",
    "                          view_support=True,\n",
    "                          engine_args={'location': 'EU'})"
   ]
  },
  {
   "cell_type": "code",
   "execution_count": null,
   "id": "14e19fb5-b3e0-4c69-8b88-ac01c4ca8c51",
   "metadata": {},
   "outputs": [],
   "source": [
    "_DEFAULT_TEMPLATE = \"\"\"\n",
    "You are a {dialect} expert. Given an input question, creat a syntactically correct {dialect} SQL query to run.\n",
    "Please ensure that given query can be executed on {dialect}.\n",
    "Note: Do not return ```sql ``` enclosed results.\n",
    "\n",
    "Use the following format:\n",
    "\n",
    "SQLQuery: \"SQL Query to run\"\n",
    "\n",
    "Expalantion: \"Explain your query in a few words.\" \n",
    "\n",
    "Use the following tables:\n",
    "{table_info}\n",
    "\n",
    "Question: {input}\n",
    "\n",
    "\"\"\""
   ]
  },
  {
   "cell_type": "code",
   "execution_count": null,
   "id": "daa73785-09fd-4a98-a2bf-8b5c1689090e",
   "metadata": {},
   "outputs": [],
   "source": [
    "from typing import Optional\n",
    "\n",
    "\n",
    "class SQLCode(BaseModel):\n",
    "    code: str = Field(description=\"SQL code to run\")\n",
    "    explanation: Optional[str] = Field(description=\"Explanation of the SQL code\")\n",
    "\n",
    "parser = PydanticOutputParser(pydantic_object=SQLCode)\n",
    "\n",
    "prompt = PromptTemplate(\n",
    "    template=_DEFAULT_TEMPLATE,\n",
    "    input_variables=[\"input\", \"table_info\", \"dialect\"],\n",
    "    partial_variables={\"format_instructions\": parser.get_format_instructions()},\n",
    ")\n",
    "\n",
    "\n",
    "output_fixining_parser = OutputFixingParser.from_llm(parser=parser, llm=llm)\n",
    "chain = prompt | llm | output_fixining_parser "
   ]
  },
  {
   "cell_type": "code",
   "execution_count": null,
   "id": "883ac89a",
   "metadata": {},
   "outputs": [],
   "source": [
    "q1 = \"Give me last day total gcp cost.\"\n",
    "q2 = \"Give me last day total gcp cost for project 'xyz'.\"\n",
    "q3 = \"I need total slot usage for last day the SKU description is 'Analysis Slots Attribution'.\"\n",
    "q4 = \"I need total cost for last month for each sku description\"\n",
    "q5 = \"Can you provide cost distribution for each project by days in the columns?\""
   ]
  },
  {
   "cell_type": "code",
   "execution_count": null,
   "id": "118d9fb0-fa46-4cf2-a833-79f1b7bbc6c1",
   "metadata": {},
   "outputs": [],
   "source": [
    "question: str = q5\n",
    "\n",
    "input = dict(input=question, \n",
    "            table_info=db.get_table_info(), \n",
    "            dialect=db.dialect)\n",
    "query = chain.invoke(input)\n",
    "result = db.run(query.code)\n",
    "\n",
    "print(f'Query: {query.code}')\n",
    "print(f'Explanation: {query.explanation}')\n",
    "eval(result)"
   ]
  },
  {
   "cell_type": "code",
   "execution_count": null,
   "id": "d5d9cadb",
   "metadata": {},
   "outputs": [],
   "source": [
    "pd.DataFrame(eval(result))"
   ]
  }
 ],
 "metadata": {
  "kernelspec": {
   "display_name": "Python 3 (ipykernel)",
   "language": "python",
   "name": "python3"
  },
  "language_info": {
   "codemirror_mode": {
    "name": "ipython",
    "version": 3
   },
   "file_extension": ".py",
   "mimetype": "text/x-python",
   "name": "python",
   "nbconvert_exporter": "python",
   "pygments_lexer": "ipython3",
   "version": "3.11.7"
  }
 },
 "nbformat": 4,
 "nbformat_minor": 5
}
