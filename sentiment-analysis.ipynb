{
 "cells": [
  {
   "cell_type": "code",
   "execution_count": 1,
   "id": "cddfc14a-06ae-4b29-b4bd-26f241f843b0",
   "metadata": {},
   "outputs": [
    {
     "name": "stderr",
     "output_type": "stream",
     "text": [
      "/Users/amateen/miniconda3/envs/venv/lib/python3.11/site-packages/tqdm/auto.py:21: TqdmWarning: IProgress not found. Please update jupyter and ipywidgets. See https://ipywidgets.readthedocs.io/en/stable/user_install.html\n",
      "  from .autonotebook import tqdm as notebook_tqdm\n"
     ]
    }
   ],
   "source": [
    "from finvizfinance.screener.overview import Overview\n",
    "import pandas as pd\n",
    "import csv\n",
    "import os\n",
    "from transformers import pipeline\n",
    "import yfinance as yf\n",
    "from goose3 import Goose\n",
    "from requests import get"
   ]
  },
  {
   "cell_type": "code",
   "execution_count": 2,
   "id": "386b19b5-323e-4303-abfd-24cdafddae2b",
   "metadata": {
    "scrolled": true
   },
   "outputs": [
    {
     "name": "stdout",
     "output_type": "stream",
     "text": [
      "['AMSWA', 'MNDO', 'UPBD']##########################] 1/1 \n"
     ]
    },
    {
     "name": "stderr",
     "output_type": "stream",
     "text": [
      "/Users/amateen/miniconda3/envs/venv/lib/python3.11/site-packages/finvizfinance/screener/overview.py:203: FutureWarning: The behavior of DataFrame concatenation with empty or all-NA entries is deprecated. In a future version, this will no longer exclude empty or all-NA columns when determining the result dtypes. To retain the old behavior, exclude the relevant entries before the concat operation.\n",
      "  return pd.concat([df, pd.DataFrame(frame)], ignore_index=True)\n"
     ]
    }
   ],
   "source": [
    "def get_undervalued_stocks():\n",
    "    \"\"\"\n",
    "    Returns a list of tickers with:\n",
    "    \n",
    "    - Positive Operating Margin\n",
    "    - Debt-to-Equity ratio under 1\n",
    "    - Low P/B (under 1)\n",
    "    - Low P/E ratio (under 15)\n",
    "    - Low PEG ratio (under 1)\n",
    "    - Positive Insider Transactions\n",
    "    \"\"\"\n",
    "    foverview = Overview()\n",
    "    # filters_dict = {'Debt/Equity':'Under 1', \n",
    "    #                 # 'PEG':'Low (<1)', \n",
    "    #                 # 'P/B':'Low (<1)',\n",
    "    #                 # 'P/E':'Low (<15)',\n",
    "    #                 'Operating Margin':'Positive (>0%)', \n",
    "    #                 'InsiderTransactions':'Positive (>0%)',\n",
    "    #                 'Sector': 'Technology'}\n",
    "    filters_dict = {'Sector': 'Technology',\n",
    "                    'Industry': 'Software - Application',\n",
    "                    'Dividend Yield': 'Over 4%'}\n",
    "\n",
    "\n",
    "    # parameters = ['Exchange', 'Index', 'Sector', 'Industry', 'Country', 'Market Cap.',\n",
    "    #     'P/E', 'Forward P/E', 'PEG', 'P/S', 'P/B', 'Price/Cash', 'Price/Free Cash Flow',\n",
    "    #     'EPS growththis year', 'EPS growthnext year', 'EPS growthpast 5 years', 'EPS growthnext 5 years',\n",
    "    #     'Sales growthpast 5 years', 'EPS growthqtr over qtr', 'Sales growthqtr over qtr',\n",
    "    #     'Dividend Yield', 'Return on Assets', 'Return on Equity', 'Return on Investment',\n",
    "    #     'Current Ratio', 'Quick Ratio', 'LT Debt/Equity', 'Debt/Equity', 'Gross Margin',\n",
    "    #     'Operating Margin', 'Net Profit Margin', 'Payout Ratio', 'InsiderOwnership', 'InsiderTransactions',\n",
    "    #     'InstitutionalOwnership', 'InstitutionalTransactions', 'Float Short', 'Analyst Recom.',\n",
    "    #     'Option/Short', 'Earnings Date', 'Performance', 'Performance 2', 'Volatility', 'RSI (14)',\n",
    "    #     'Gap', '20-Day Simple Moving Average', '50-Day Simple Moving Average',\n",
    "    #     '200-Day Simple Moving Average', 'Change', 'Change from Open', '20-Day High/Low',\n",
    "    #     '50-Day High/Low', '52-Week High/Low', 'Pattern', 'Candlestick', 'Beta',\n",
    "    #     'Average True Range', 'Average Volume', 'Relative Volume', 'Current Volume',\n",
    "    #     'Price', 'Target Price', 'IPO Date', 'Shares Outstanding', 'Float']\n",
    "\n",
    "    foverview.set_filter(filters_dict=filters_dict)\n",
    "    df_overview = foverview.screener_view()\n",
    "    if not os.path.exists('out'):\n",
    "        os.makedirs('out')\n",
    "    df_overview.to_csv('out/Overview.csv', index=False)\n",
    "    tickers = df_overview['Ticker'].to_list()\n",
    "    return tickers\n",
    "\n",
    "\n",
    "print(get_undervalued_stocks())"
   ]
  },
  {
   "cell_type": "code",
   "execution_count": 3,
   "id": "118d9fb0-fa46-4cf2-a833-79f1b7bbc6c1",
   "metadata": {},
   "outputs": [],
   "source": [
    "def get_ticker_news_sentiment(ticker):\n",
    "    \"\"\"\n",
    "    Returns a Pandas dataframe of the given ticker's most recent news article headlines,\n",
    "    with the overal sentiment of each article.\n",
    "\n",
    "    Args:\n",
    "        ticker (string)\n",
    "\n",
    "    Returns:\n",
    "        pd.DataFrame: {'Date', 'Article title', Article sentiment'}\n",
    "    \"\"\"\n",
    "    ticker_news = yf.Ticker(ticker)\n",
    "    news_list = ticker_news.get_news()\n",
    "    extractor = Goose()\n",
    "    pipe = pipeline(\"text-classification\", model=\"ProsusAI/finbert\")\n",
    "    data = []\n",
    "    for dic in news_list:\n",
    "        title = dic['title']\n",
    "        response = get(dic['link'])\n",
    "        article = extractor.extract(raw_html=response.content)\n",
    "        text = article.cleaned_text\n",
    "        date = article.publish_date\n",
    "        if len(text) > 512:\n",
    "            data.append({'Date':f'{date}',\n",
    "                         'Article title':f'{title}',\n",
    "                         'Article sentiment':'NaN too long'})\n",
    "        else:\n",
    "            results = pipe(text)\n",
    "            print(f\"{ticker} {results}\")\n",
    "            data.append({'Date':f'{date}',\n",
    "                         'Article title':f'{title}',\n",
    "                         'Article sentiment':results[0]['label']})\n",
    "    df = pd.DataFrame(data)\n",
    "    return df\n"
   ]
  },
  {
   "cell_type": "code",
   "execution_count": 4,
   "id": "d967a414-7433-484b-bcba-4c61908c3760",
   "metadata": {},
   "outputs": [],
   "source": [
    "def generate_csv(ticker):\n",
    "    get_ticker_news_sentiment(ticker).to_csv(f'out/{ticker}.csv', index=False)\n",
    "    \n",
    " "
   ]
  },
  {
   "cell_type": "code",
   "execution_count": 5,
   "id": "040ae182",
   "metadata": {},
   "outputs": [
    {
     "name": "stdout",
     "output_type": "stream",
     "text": [
      "[Info] loading page [##############################] 1/1 \r"
     ]
    },
    {
     "name": "stderr",
     "output_type": "stream",
     "text": [
      "/Users/amateen/miniconda3/envs/venv/lib/python3.11/site-packages/finvizfinance/screener/overview.py:203: FutureWarning: The behavior of DataFrame concatenation with empty or all-NA entries is deprecated. In a future version, this will no longer exclude empty or all-NA columns when determining the result dtypes. To retain the old behavior, exclude the relevant entries before the concat operation.\n",
      "  return pd.concat([df, pd.DataFrame(frame)], ignore_index=True)\n"
     ]
    },
    {
     "name": "stdout",
     "output_type": "stream",
     "text": [
      "AMSWA [{'label': 'positive', 'score': 0.8526430130004883}]\n",
      "AMSWA [{'label': 'positive', 'score': 0.8526430130004883}]\n",
      "AMSWA [{'label': 'positive', 'score': 0.8526430130004883}]\n",
      "AMSWA [{'label': 'positive', 'score': 0.8526430130004883}]\n",
      "AMSWA [{'label': 'positive', 'score': 0.8526430130004883}]\n",
      "AMSWA [{'label': 'positive', 'score': 0.8526430130004883}]\n",
      "AMSWA [{'label': 'positive', 'score': 0.8526430130004883}]\n",
      "MNDO [{'label': 'positive', 'score': 0.8526430130004883}]\n",
      "MNDO [{'label': 'positive', 'score': 0.8526430130004883}]\n",
      "UPBD [{'label': 'positive', 'score': 0.8526430130004883}]\n",
      "UPBD [{'label': 'positive', 'score': 0.8526430130004883}]\n",
      "UPBD [{'label': 'positive', 'score': 0.8526430130004883}]\n"
     ]
    }
   ],
   "source": [
    "undervalued = get_undervalued_stocks()   \n",
    "for ticker in undervalued:\n",
    "        generate_csv(ticker)\n"
   ]
  },
  {
   "cell_type": "code",
   "execution_count": 6,
   "id": "4c493628",
   "metadata": {},
   "outputs": [
    {
     "name": "stdout",
     "output_type": "stream",
     "text": [
      "FVRR [{'label': 'positive', 'score': 0.8526430130004883}]\n"
     ]
    }
   ],
   "source": [
    "generate_csv(\"FVRR\")\n"
   ]
  }
 ],
 "metadata": {
  "kernelspec": {
   "display_name": "Python 3 (ipykernel)",
   "language": "python",
   "name": "python3"
  },
  "language_info": {
   "codemirror_mode": {
    "name": "ipython",
    "version": 3
   },
   "file_extension": ".py",
   "mimetype": "text/x-python",
   "name": "python",
   "nbconvert_exporter": "python",
   "pygments_lexer": "ipython3",
   "version": "3.11.7"
  }
 },
 "nbformat": 4,
 "nbformat_minor": 5
}
